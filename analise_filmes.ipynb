{
 "cells": [
  {
   "cell_type": "code",
   "execution_count": 4,
   "id": "c9fc656c",
   "metadata": {},
   "outputs": [],
   "source": [
    "#Importações para Manipulação e Análise de Dados\n",
    "import pandas as pd\n",
    "import numpy as np\n",
    "\n",
    "#Importações para Visualização de Dados \n",
    "import matplotlib.pyplot as plt\n",
    "import seaborn as sns\n",
    "from wordcloud import WordCloud\n",
    "\n",
    "#Importações para Machine Learning e Pré-processamento\n",
    "from sklearn.model_selection import train_test_split\n",
    "from sklearn.preprocessing import StandardScaler, OneHotEncoder, MultiLabelBinarizer\n",
    "from sklearn.compose import ColumnTransformer\n",
    "from sklearn.pipeline import Pipeline\n",
    "from sklearn.impute import SimpleImputer\n",
    "from sklearn.feature_extraction.text import TfidfVectorizer\n",
    "from sklearn.multiclass import OneVsRestClassifier\n",
    "from sklearn.linear_model import LogisticRegression, LinearRegression\n",
    "from sklearn.ensemble import RandomForestRegressor\n",
    "from sklearn.metrics import mean_squared_error, r2_score\n",
    "\n",
    "import xgboost as xgb\n",
    "\n",
    "#Importação para Salvar o Modelo\n",
    "import joblib\n",
    "\n",
    "#Estilo estético para os gráficos do seaborn\n",
    "sns.set_style('whitegrid')\n",
    "#Tamanho padrão para as figuras do matplotlib\n",
    "plt.rcParams['figure.figsize'] = (12, 6)"
   ]
  },
  {
   "cell_type": "code",
   "execution_count": 5,
   "id": "6c1e29b6",
   "metadata": {},
   "outputs": [
    {
     "name": "stdout",
     "output_type": "stream",
     "text": [
      "Amostra dos dados:\n"
     ]
    },
    {
     "name": "stderr",
     "output_type": "stream",
     "text": [
      "<>:2: SyntaxWarning: invalid escape sequence '\\d'\n",
      "<>:2: SyntaxWarning: invalid escape sequence '\\d'\n",
      "C:\\Users\\Rodrigo\\AppData\\Local\\Temp\\ipykernel_18780\\2430687922.py:2: SyntaxWarning: invalid escape sequence '\\d'\n",
      "  df = pd.read_csv('data\\desafio_indicium_imdb.csv', index_col=0)\n"
     ]
    },
    {
     "data": {
      "text/html": [
       "<div>\n",
       "<style scoped>\n",
       "    .dataframe tbody tr th:only-of-type {\n",
       "        vertical-align: middle;\n",
       "    }\n",
       "\n",
       "    .dataframe tbody tr th {\n",
       "        vertical-align: top;\n",
       "    }\n",
       "\n",
       "    .dataframe thead th {\n",
       "        text-align: right;\n",
       "    }\n",
       "</style>\n",
       "<table border=\"1\" class=\"dataframe\">\n",
       "  <thead>\n",
       "    <tr style=\"text-align: right;\">\n",
       "      <th></th>\n",
       "      <th>Series_Title</th>\n",
       "      <th>Released_Year</th>\n",
       "      <th>Certificate</th>\n",
       "      <th>Runtime</th>\n",
       "      <th>Genre</th>\n",
       "      <th>IMDB_Rating</th>\n",
       "      <th>Overview</th>\n",
       "      <th>Meta_score</th>\n",
       "      <th>Director</th>\n",
       "      <th>Star1</th>\n",
       "      <th>Star2</th>\n",
       "      <th>Star3</th>\n",
       "      <th>Star4</th>\n",
       "      <th>No_of_Votes</th>\n",
       "      <th>Gross</th>\n",
       "    </tr>\n",
       "  </thead>\n",
       "  <tbody>\n",
       "    <tr>\n",
       "      <th>1</th>\n",
       "      <td>The Godfather</td>\n",
       "      <td>1972</td>\n",
       "      <td>A</td>\n",
       "      <td>175 min</td>\n",
       "      <td>Crime, Drama</td>\n",
       "      <td>9.20</td>\n",
       "      <td>An organized crime dynasty's aging patriarch t...</td>\n",
       "      <td>100.00</td>\n",
       "      <td>Francis Ford Coppola</td>\n",
       "      <td>Marlon Brando</td>\n",
       "      <td>Al Pacino</td>\n",
       "      <td>James Caan</td>\n",
       "      <td>Diane Keaton</td>\n",
       "      <td>1620367</td>\n",
       "      <td>134,966,411</td>\n",
       "    </tr>\n",
       "    <tr>\n",
       "      <th>2</th>\n",
       "      <td>The Dark Knight</td>\n",
       "      <td>2008</td>\n",
       "      <td>UA</td>\n",
       "      <td>152 min</td>\n",
       "      <td>Action, Crime, Drama</td>\n",
       "      <td>9.00</td>\n",
       "      <td>When the menace known as the Joker wreaks havo...</td>\n",
       "      <td>84.00</td>\n",
       "      <td>Christopher Nolan</td>\n",
       "      <td>Christian Bale</td>\n",
       "      <td>Heath Ledger</td>\n",
       "      <td>Aaron Eckhart</td>\n",
       "      <td>Michael Caine</td>\n",
       "      <td>2303232</td>\n",
       "      <td>534,858,444</td>\n",
       "    </tr>\n",
       "    <tr>\n",
       "      <th>3</th>\n",
       "      <td>The Godfather: Part II</td>\n",
       "      <td>1974</td>\n",
       "      <td>A</td>\n",
       "      <td>202 min</td>\n",
       "      <td>Crime, Drama</td>\n",
       "      <td>9.00</td>\n",
       "      <td>The early life and career of Vito Corleone in ...</td>\n",
       "      <td>90.00</td>\n",
       "      <td>Francis Ford Coppola</td>\n",
       "      <td>Al Pacino</td>\n",
       "      <td>Robert De Niro</td>\n",
       "      <td>Robert Duvall</td>\n",
       "      <td>Diane Keaton</td>\n",
       "      <td>1129952</td>\n",
       "      <td>57,300,000</td>\n",
       "    </tr>\n",
       "    <tr>\n",
       "      <th>4</th>\n",
       "      <td>12 Angry Men</td>\n",
       "      <td>1957</td>\n",
       "      <td>U</td>\n",
       "      <td>96 min</td>\n",
       "      <td>Crime, Drama</td>\n",
       "      <td>9.00</td>\n",
       "      <td>A jury holdout attempts to prevent a miscarria...</td>\n",
       "      <td>96.00</td>\n",
       "      <td>Sidney Lumet</td>\n",
       "      <td>Henry Fonda</td>\n",
       "      <td>Lee J. Cobb</td>\n",
       "      <td>Martin Balsam</td>\n",
       "      <td>John Fiedler</td>\n",
       "      <td>689845</td>\n",
       "      <td>4,360,000</td>\n",
       "    </tr>\n",
       "    <tr>\n",
       "      <th>5</th>\n",
       "      <td>The Lord of the Rings: The Return of the King</td>\n",
       "      <td>2003</td>\n",
       "      <td>U</td>\n",
       "      <td>201 min</td>\n",
       "      <td>Action, Adventure, Drama</td>\n",
       "      <td>8.90</td>\n",
       "      <td>Gandalf and Aragorn lead the World of Men agai...</td>\n",
       "      <td>94.00</td>\n",
       "      <td>Peter Jackson</td>\n",
       "      <td>Elijah Wood</td>\n",
       "      <td>Viggo Mortensen</td>\n",
       "      <td>Ian McKellen</td>\n",
       "      <td>Orlando Bloom</td>\n",
       "      <td>1642758</td>\n",
       "      <td>377,845,905</td>\n",
       "    </tr>\n",
       "  </tbody>\n",
       "</table>\n",
       "</div>"
      ],
      "text/plain": [
       "                                    Series_Title Released_Year Certificate  \\\n",
       "1                                  The Godfather          1972           A   \n",
       "2                                The Dark Knight          2008          UA   \n",
       "3                         The Godfather: Part II          1974           A   \n",
       "4                                   12 Angry Men          1957           U   \n",
       "5  The Lord of the Rings: The Return of the King          2003           U   \n",
       "\n",
       "   Runtime                     Genre  IMDB_Rating  \\\n",
       "1  175 min              Crime, Drama         9.20   \n",
       "2  152 min      Action, Crime, Drama         9.00   \n",
       "3  202 min              Crime, Drama         9.00   \n",
       "4   96 min              Crime, Drama         9.00   \n",
       "5  201 min  Action, Adventure, Drama         8.90   \n",
       "\n",
       "                                            Overview  Meta_score  \\\n",
       "1  An organized crime dynasty's aging patriarch t...      100.00   \n",
       "2  When the menace known as the Joker wreaks havo...       84.00   \n",
       "3  The early life and career of Vito Corleone in ...       90.00   \n",
       "4  A jury holdout attempts to prevent a miscarria...       96.00   \n",
       "5  Gandalf and Aragorn lead the World of Men agai...       94.00   \n",
       "\n",
       "               Director           Star1            Star2          Star3  \\\n",
       "1  Francis Ford Coppola   Marlon Brando        Al Pacino     James Caan   \n",
       "2     Christopher Nolan  Christian Bale     Heath Ledger  Aaron Eckhart   \n",
       "3  Francis Ford Coppola       Al Pacino   Robert De Niro  Robert Duvall   \n",
       "4          Sidney Lumet     Henry Fonda      Lee J. Cobb  Martin Balsam   \n",
       "5         Peter Jackson     Elijah Wood  Viggo Mortensen   Ian McKellen   \n",
       "\n",
       "           Star4  No_of_Votes        Gross  \n",
       "1   Diane Keaton      1620367  134,966,411  \n",
       "2  Michael Caine      2303232  534,858,444  \n",
       "3   Diane Keaton      1129952   57,300,000  \n",
       "4   John Fiedler       689845    4,360,000  \n",
       "5  Orlando Bloom      1642758  377,845,905  "
      ]
     },
     "metadata": {},
     "output_type": "display_data"
    }
   ],
   "source": [
    "# Carrega o conjunto de dados a partir do arquivo CSV\n",
    "df = pd.read_csv('data\\desafio_indicium_imdb.csv', index_col=0)\n",
    "\n",
    "# Exibe as primeiras 5 linhas para uma inspeção inicial\n",
    "print(\"Amostra dos dados:\")\n",
    "display(df.head())"
   ]
  },
  {
   "cell_type": "code",
   "execution_count": 6,
   "id": "f450362b",
   "metadata": {},
   "outputs": [
    {
     "name": "stdout",
     "output_type": "stream",
     "text": [
      "\n",
      "Informações do DataFrame:\n",
      "<class 'pandas.core.frame.DataFrame'>\n",
      "Index: 999 entries, 1 to 999\n",
      "Data columns (total 15 columns):\n",
      " #   Column         Non-Null Count  Dtype  \n",
      "---  ------         --------------  -----  \n",
      " 0   Series_Title   999 non-null    object \n",
      " 1   Released_Year  999 non-null    object \n",
      " 2   Certificate    898 non-null    object \n",
      " 3   Runtime        999 non-null    object \n",
      " 4   Genre          999 non-null    object \n",
      " 5   IMDB_Rating    999 non-null    float64\n",
      " 6   Overview       999 non-null    object \n",
      " 7   Meta_score     842 non-null    float64\n",
      " 8   Director       999 non-null    object \n",
      " 9   Star1          999 non-null    object \n",
      " 10  Star2          999 non-null    object \n",
      " 11  Star3          999 non-null    object \n",
      " 12  Star4          999 non-null    object \n",
      " 13  No_of_Votes    999 non-null    int64  \n",
      " 14  Gross          830 non-null    object \n",
      "dtypes: float64(2), int64(1), object(12)\n",
      "memory usage: 124.9+ KB\n"
     ]
    }
   ],
   "source": [
    "# Exibe informações sobre o DataFrame, incluindo tipos de dados e valores não nulos\n",
    "print(\"\\nInformações do DataFrame:\")\n",
    "df.info()"
   ]
  },
  {
   "cell_type": "code",
   "execution_count": 7,
   "id": "4b8d8959",
   "metadata": {},
   "outputs": [
    {
     "name": "stdout",
     "output_type": "stream",
     "text": [
      "Series_Title       0\n",
      "Released_Year      0\n",
      "Certificate      101\n",
      "Runtime            0\n",
      "Genre              0\n",
      "IMDB_Rating        0\n",
      "Overview           0\n",
      "Meta_score       157\n",
      "Director           0\n",
      "Star1              0\n",
      "Star2              0\n",
      "Star3              0\n",
      "Star4              0\n",
      "No_of_Votes        0\n",
      "Gross            169\n",
      "dtype: int64\n"
     ]
    }
   ],
   "source": [
    "# Calcula e exibe a contagem de valores ausentes para cada coluna\n",
    "valores_ausentes = df.isnull().sum()\n",
    "print(valores_ausentes)"
   ]
  },
  {
   "cell_type": "markdown",
   "id": "39abefde",
   "metadata": {},
   "source": [
    "É notavel que exitem colunas importantes com valores ausentes,agora é preciso tratar cada uma de forma especifica para não generalizar. "
   ]
  },
  {
   "cell_type": "code",
   "execution_count": 8,
   "id": "2d509495",
   "metadata": {},
   "outputs": [],
   "source": [
    "# Remove as vírgulas e converte para o tipo numérico (float)\n",
    "# Erros de conversão também se tornarão NaN\n",
    "df['Gross'] = df['Gross'].str.replace(',', '', regex=False)\n",
    "df['Gross'] = pd.to_numeric(df['Gross'], errors='coerce')"
   ]
  },
  {
   "cell_type": "code",
   "execution_count": 9,
   "id": "9ed3b872",
   "metadata": {},
   "outputs": [
    {
     "name": "stderr",
     "output_type": "stream",
     "text": [
      "c:\\Users\\Rodrigo\\Documents\\LH_CD_JOSÉ RODRIGO DOS SANTO MOURA\\.venv\\Lib\\site-packages\\numpy\\lib\\_nanfunctions_impl.py:1214: RuntimeWarning: Mean of empty slice\n",
      "  return np.nanmean(a, axis, out=out, keepdims=keepdims)\n",
      "c:\\Users\\Rodrigo\\Documents\\LH_CD_JOSÉ RODRIGO DOS SANTO MOURA\\.venv\\Lib\\site-packages\\numpy\\lib\\_nanfunctions_impl.py:1214: RuntimeWarning: Mean of empty slice\n",
      "  return np.nanmean(a, axis, out=out, keepdims=keepdims)\n",
      "c:\\Users\\Rodrigo\\Documents\\LH_CD_JOSÉ RODRIGO DOS SANTO MOURA\\.venv\\Lib\\site-packages\\numpy\\lib\\_nanfunctions_impl.py:1214: RuntimeWarning: Mean of empty slice\n",
      "  return np.nanmean(a, axis, out=out, keepdims=keepdims)\n",
      "c:\\Users\\Rodrigo\\Documents\\LH_CD_JOSÉ RODRIGO DOS SANTO MOURA\\.venv\\Lib\\site-packages\\numpy\\lib\\_nanfunctions_impl.py:1214: RuntimeWarning: Mean of empty slice\n",
      "  return np.nanmean(a, axis, out=out, keepdims=keepdims)\n",
      "c:\\Users\\Rodrigo\\Documents\\LH_CD_JOSÉ RODRIGO DOS SANTO MOURA\\.venv\\Lib\\site-packages\\numpy\\lib\\_nanfunctions_impl.py:1214: RuntimeWarning: Mean of empty slice\n",
      "  return np.nanmean(a, axis, out=out, keepdims=keepdims)\n",
      "c:\\Users\\Rodrigo\\Documents\\LH_CD_JOSÉ RODRIGO DOS SANTO MOURA\\.venv\\Lib\\site-packages\\numpy\\lib\\_nanfunctions_impl.py:1214: RuntimeWarning: Mean of empty slice\n",
      "  return np.nanmean(a, axis, out=out, keepdims=keepdims)\n",
      "c:\\Users\\Rodrigo\\Documents\\LH_CD_JOSÉ RODRIGO DOS SANTO MOURA\\.venv\\Lib\\site-packages\\numpy\\lib\\_nanfunctions_impl.py:1214: RuntimeWarning: Mean of empty slice\n",
      "  return np.nanmean(a, axis, out=out, keepdims=keepdims)\n",
      "c:\\Users\\Rodrigo\\Documents\\LH_CD_JOSÉ RODRIGO DOS SANTO MOURA\\.venv\\Lib\\site-packages\\numpy\\lib\\_nanfunctions_impl.py:1214: RuntimeWarning: Mean of empty slice\n",
      "  return np.nanmean(a, axis, out=out, keepdims=keepdims)\n",
      "c:\\Users\\Rodrigo\\Documents\\LH_CD_JOSÉ RODRIGO DOS SANTO MOURA\\.venv\\Lib\\site-packages\\numpy\\lib\\_nanfunctions_impl.py:1214: RuntimeWarning: Mean of empty slice\n",
      "  return np.nanmean(a, axis, out=out, keepdims=keepdims)\n",
      "c:\\Users\\Rodrigo\\Documents\\LH_CD_JOSÉ RODRIGO DOS SANTO MOURA\\.venv\\Lib\\site-packages\\numpy\\lib\\_nanfunctions_impl.py:1214: RuntimeWarning: Mean of empty slice\n",
      "  return np.nanmean(a, axis, out=out, keepdims=keepdims)\n",
      "c:\\Users\\Rodrigo\\Documents\\LH_CD_JOSÉ RODRIGO DOS SANTO MOURA\\.venv\\Lib\\site-packages\\numpy\\lib\\_nanfunctions_impl.py:1214: RuntimeWarning: Mean of empty slice\n",
      "  return np.nanmean(a, axis, out=out, keepdims=keepdims)\n",
      "c:\\Users\\Rodrigo\\Documents\\LH_CD_JOSÉ RODRIGO DOS SANTO MOURA\\.venv\\Lib\\site-packages\\numpy\\lib\\_nanfunctions_impl.py:1214: RuntimeWarning: Mean of empty slice\n",
      "  return np.nanmean(a, axis, out=out, keepdims=keepdims)\n",
      "c:\\Users\\Rodrigo\\Documents\\LH_CD_JOSÉ RODRIGO DOS SANTO MOURA\\.venv\\Lib\\site-packages\\numpy\\lib\\_nanfunctions_impl.py:1214: RuntimeWarning: Mean of empty slice\n",
      "  return np.nanmean(a, axis, out=out, keepdims=keepdims)\n",
      "c:\\Users\\Rodrigo\\Documents\\LH_CD_JOSÉ RODRIGO DOS SANTO MOURA\\.venv\\Lib\\site-packages\\numpy\\lib\\_nanfunctions_impl.py:1214: RuntimeWarning: Mean of empty slice\n",
      "  return np.nanmean(a, axis, out=out, keepdims=keepdims)\n",
      "c:\\Users\\Rodrigo\\Documents\\LH_CD_JOSÉ RODRIGO DOS SANTO MOURA\\.venv\\Lib\\site-packages\\numpy\\lib\\_nanfunctions_impl.py:1214: RuntimeWarning: Mean of empty slice\n",
      "  return np.nanmean(a, axis, out=out, keepdims=keepdims)\n",
      "c:\\Users\\Rodrigo\\Documents\\LH_CD_JOSÉ RODRIGO DOS SANTO MOURA\\.venv\\Lib\\site-packages\\numpy\\lib\\_nanfunctions_impl.py:1214: RuntimeWarning: Mean of empty slice\n",
      "  return np.nanmean(a, axis, out=out, keepdims=keepdims)\n",
      "c:\\Users\\Rodrigo\\Documents\\LH_CD_JOSÉ RODRIGO DOS SANTO MOURA\\.venv\\Lib\\site-packages\\numpy\\lib\\_nanfunctions_impl.py:1214: RuntimeWarning: Mean of empty slice\n",
      "  return np.nanmean(a, axis, out=out, keepdims=keepdims)\n",
      "c:\\Users\\Rodrigo\\Documents\\LH_CD_JOSÉ RODRIGO DOS SANTO MOURA\\.venv\\Lib\\site-packages\\numpy\\lib\\_nanfunctions_impl.py:1214: RuntimeWarning: Mean of empty slice\n",
      "  return np.nanmean(a, axis, out=out, keepdims=keepdims)\n",
      "c:\\Users\\Rodrigo\\Documents\\LH_CD_JOSÉ RODRIGO DOS SANTO MOURA\\.venv\\Lib\\site-packages\\numpy\\lib\\_nanfunctions_impl.py:1214: RuntimeWarning: Mean of empty slice\n",
      "  return np.nanmean(a, axis, out=out, keepdims=keepdims)\n",
      "c:\\Users\\Rodrigo\\Documents\\LH_CD_JOSÉ RODRIGO DOS SANTO MOURA\\.venv\\Lib\\site-packages\\numpy\\lib\\_nanfunctions_impl.py:1214: RuntimeWarning: Mean of empty slice\n",
      "  return np.nanmean(a, axis, out=out, keepdims=keepdims)\n"
     ]
    }
   ],
   "source": [
    "# Calcula a mediana do faturamento para cada gênero e usa isso para preencher os valores ausentes\n",
    "df['Gross'] = df.groupby('Genre')['Gross'].transform(lambda x: x.fillna(x.median()))\n",
    "\n",
    "# Pode haver gêneros raros que não têm outros filmes para calcular a mediana.\n",
    "# Nesses casos, preenchemos os restantes com a mediana geral como um fallback.\n",
    "df['Gross'] = df['Gross'].fillna(df['Gross'].median())"
   ]
  },
  {
   "cell_type": "code",
   "execution_count": 10,
   "id": "5034e69d",
   "metadata": {},
   "outputs": [],
   "source": [
    "#Remoção da strig 'min' na coluna Runtime\n",
    "df['Runtime'] = df['Runtime'].str.replace(' min', '').astype(int)"
   ]
  },
  {
   "cell_type": "markdown",
   "id": "c01a9077",
   "metadata": {},
   "source": [
    "Para os valores ausentes da coluna certificate, foi criada uma nova categoria \"Not Rated\", apenas inferir novos valores poderia ser equivocado. "
   ]
  },
  {
   "cell_type": "code",
   "execution_count": 11,
   "id": "4871bb76",
   "metadata": {},
   "outputs": [],
   "source": [
    "#Atribuir nova catergoria para os valores ausentes de certificate \n",
    "df['Certificate'] = df['Certificate'].fillna('Not Rated')"
   ]
  },
  {
   "cell_type": "markdown",
   "id": "363435ee",
   "metadata": {},
   "source": [
    "Para a coluna de meta_score foi imputado valores com base na mediana dos filmes de mesmo genero"
   ]
  },
  {
   "cell_type": "code",
   "execution_count": 12,
   "id": "3e35ab37",
   "metadata": {},
   "outputs": [
    {
     "name": "stderr",
     "output_type": "stream",
     "text": [
      "c:\\Users\\Rodrigo\\Documents\\LH_CD_JOSÉ RODRIGO DOS SANTO MOURA\\.venv\\Lib\\site-packages\\numpy\\lib\\_nanfunctions_impl.py:1214: RuntimeWarning: Mean of empty slice\n",
      "  return np.nanmean(a, axis, out=out, keepdims=keepdims)\n",
      "c:\\Users\\Rodrigo\\Documents\\LH_CD_JOSÉ RODRIGO DOS SANTO MOURA\\.venv\\Lib\\site-packages\\numpy\\lib\\_nanfunctions_impl.py:1214: RuntimeWarning: Mean of empty slice\n",
      "  return np.nanmean(a, axis, out=out, keepdims=keepdims)\n",
      "c:\\Users\\Rodrigo\\Documents\\LH_CD_JOSÉ RODRIGO DOS SANTO MOURA\\.venv\\Lib\\site-packages\\numpy\\lib\\_nanfunctions_impl.py:1214: RuntimeWarning: Mean of empty slice\n",
      "  return np.nanmean(a, axis, out=out, keepdims=keepdims)\n",
      "c:\\Users\\Rodrigo\\Documents\\LH_CD_JOSÉ RODRIGO DOS SANTO MOURA\\.venv\\Lib\\site-packages\\numpy\\lib\\_nanfunctions_impl.py:1214: RuntimeWarning: Mean of empty slice\n",
      "  return np.nanmean(a, axis, out=out, keepdims=keepdims)\n",
      "c:\\Users\\Rodrigo\\Documents\\LH_CD_JOSÉ RODRIGO DOS SANTO MOURA\\.venv\\Lib\\site-packages\\numpy\\lib\\_nanfunctions_impl.py:1214: RuntimeWarning: Mean of empty slice\n",
      "  return np.nanmean(a, axis, out=out, keepdims=keepdims)\n",
      "c:\\Users\\Rodrigo\\Documents\\LH_CD_JOSÉ RODRIGO DOS SANTO MOURA\\.venv\\Lib\\site-packages\\numpy\\lib\\_nanfunctions_impl.py:1214: RuntimeWarning: Mean of empty slice\n",
      "  return np.nanmean(a, axis, out=out, keepdims=keepdims)\n",
      "c:\\Users\\Rodrigo\\Documents\\LH_CD_JOSÉ RODRIGO DOS SANTO MOURA\\.venv\\Lib\\site-packages\\numpy\\lib\\_nanfunctions_impl.py:1214: RuntimeWarning: Mean of empty slice\n",
      "  return np.nanmean(a, axis, out=out, keepdims=keepdims)\n",
      "c:\\Users\\Rodrigo\\Documents\\LH_CD_JOSÉ RODRIGO DOS SANTO MOURA\\.venv\\Lib\\site-packages\\numpy\\lib\\_nanfunctions_impl.py:1214: RuntimeWarning: Mean of empty slice\n",
      "  return np.nanmean(a, axis, out=out, keepdims=keepdims)\n",
      "c:\\Users\\Rodrigo\\Documents\\LH_CD_JOSÉ RODRIGO DOS SANTO MOURA\\.venv\\Lib\\site-packages\\numpy\\lib\\_nanfunctions_impl.py:1214: RuntimeWarning: Mean of empty slice\n",
      "  return np.nanmean(a, axis, out=out, keepdims=keepdims)\n",
      "c:\\Users\\Rodrigo\\Documents\\LH_CD_JOSÉ RODRIGO DOS SANTO MOURA\\.venv\\Lib\\site-packages\\numpy\\lib\\_nanfunctions_impl.py:1214: RuntimeWarning: Mean of empty slice\n",
      "  return np.nanmean(a, axis, out=out, keepdims=keepdims)\n",
      "c:\\Users\\Rodrigo\\Documents\\LH_CD_JOSÉ RODRIGO DOS SANTO MOURA\\.venv\\Lib\\site-packages\\numpy\\lib\\_nanfunctions_impl.py:1214: RuntimeWarning: Mean of empty slice\n",
      "  return np.nanmean(a, axis, out=out, keepdims=keepdims)\n",
      "c:\\Users\\Rodrigo\\Documents\\LH_CD_JOSÉ RODRIGO DOS SANTO MOURA\\.venv\\Lib\\site-packages\\numpy\\lib\\_nanfunctions_impl.py:1214: RuntimeWarning: Mean of empty slice\n",
      "  return np.nanmean(a, axis, out=out, keepdims=keepdims)\n",
      "c:\\Users\\Rodrigo\\Documents\\LH_CD_JOSÉ RODRIGO DOS SANTO MOURA\\.venv\\Lib\\site-packages\\numpy\\lib\\_nanfunctions_impl.py:1214: RuntimeWarning: Mean of empty slice\n",
      "  return np.nanmean(a, axis, out=out, keepdims=keepdims)\n",
      "c:\\Users\\Rodrigo\\Documents\\LH_CD_JOSÉ RODRIGO DOS SANTO MOURA\\.venv\\Lib\\site-packages\\numpy\\lib\\_nanfunctions_impl.py:1214: RuntimeWarning: Mean of empty slice\n",
      "  return np.nanmean(a, axis, out=out, keepdims=keepdims)\n",
      "c:\\Users\\Rodrigo\\Documents\\LH_CD_JOSÉ RODRIGO DOS SANTO MOURA\\.venv\\Lib\\site-packages\\numpy\\lib\\_nanfunctions_impl.py:1214: RuntimeWarning: Mean of empty slice\n",
      "  return np.nanmean(a, axis, out=out, keepdims=keepdims)\n",
      "c:\\Users\\Rodrigo\\Documents\\LH_CD_JOSÉ RODRIGO DOS SANTO MOURA\\.venv\\Lib\\site-packages\\numpy\\lib\\_nanfunctions_impl.py:1214: RuntimeWarning: Mean of empty slice\n",
      "  return np.nanmean(a, axis, out=out, keepdims=keepdims)\n",
      "c:\\Users\\Rodrigo\\Documents\\LH_CD_JOSÉ RODRIGO DOS SANTO MOURA\\.venv\\Lib\\site-packages\\numpy\\lib\\_nanfunctions_impl.py:1214: RuntimeWarning: Mean of empty slice\n",
      "  return np.nanmean(a, axis, out=out, keepdims=keepdims)\n",
      "c:\\Users\\Rodrigo\\Documents\\LH_CD_JOSÉ RODRIGO DOS SANTO MOURA\\.venv\\Lib\\site-packages\\numpy\\lib\\_nanfunctions_impl.py:1214: RuntimeWarning: Mean of empty slice\n",
      "  return np.nanmean(a, axis, out=out, keepdims=keepdims)\n"
     ]
    }
   ],
   "source": [
    "# 1. Tenta preencher cada Meta_score ausente com a mediana do seu grupo de Gênero.\n",
    "df['Meta_score'] = df.groupby('Genre')['Meta_score'].transform(lambda x: x.fillna(x.median()))\n",
    "\n",
    "# 2. Fallback: Se algum gênero não tinha nenhum Meta_score válido para calcular a mediana \n",
    "# Então, preenchemos os poucos que sobraram com a mediana GERAL.\n",
    "df['Meta_score'] = df['Meta_score'].fillna(df['Meta_score'].median())"
   ]
  },
  {
   "cell_type": "code",
   "execution_count": 13,
   "id": "221a2f52",
   "metadata": {},
   "outputs": [
    {
     "name": "stdout",
     "output_type": "stream",
     "text": [
      "Series_Title     0\n",
      "Released_Year    0\n",
      "Certificate      0\n",
      "Runtime          0\n",
      "Genre            0\n",
      "IMDB_Rating      0\n",
      "Overview         0\n",
      "Meta_score       0\n",
      "Director         0\n",
      "Star1            0\n",
      "Star2            0\n",
      "Star3            0\n",
      "Star4            0\n",
      "No_of_Votes      0\n",
      "Gross            0\n",
      "dtype: int64\n"
     ]
    }
   ],
   "source": [
    "valores_ausentes = df.isnull().sum()\n",
    "print(valores_ausentes)"
   ]
  },
  {
   "cell_type": "code",
   "execution_count": 14,
   "id": "82ea9922",
   "metadata": {},
   "outputs": [],
   "source": [
    "#Converter a coluna 'Released_Year' para um tipo numérico.\n",
    "df['Released_Year'] = pd.to_numeric(df['Released_Year'], errors='coerce')"
   ]
  },
  {
   "cell_type": "code",
   "execution_count": 15,
   "id": "b8926a49",
   "metadata": {},
   "outputs": [
    {
     "name": "stdout",
     "output_type": "stream",
     "text": [
      "Series_Title     0\n",
      "Released_Year    1\n",
      "Certificate      0\n",
      "Runtime          0\n",
      "Genre            0\n",
      "IMDB_Rating      0\n",
      "Overview         0\n",
      "Meta_score       0\n",
      "Director         0\n",
      "Star1            0\n",
      "Star2            0\n",
      "Star3            0\n",
      "Star4            0\n",
      "No_of_Votes      0\n",
      "Gross            0\n",
      "dtype: int64\n"
     ]
    }
   ],
   "source": [
    "valores_ausentes = df.isnull().sum()\n",
    "print(valores_ausentes)"
   ]
  },
  {
   "cell_type": "code",
   "execution_count": 16,
   "id": "7812848d",
   "metadata": {},
   "outputs": [
    {
     "data": {
      "text/html": [
       "<div>\n",
       "<style scoped>\n",
       "    .dataframe tbody tr th:only-of-type {\n",
       "        vertical-align: middle;\n",
       "    }\n",
       "\n",
       "    .dataframe tbody tr th {\n",
       "        vertical-align: top;\n",
       "    }\n",
       "\n",
       "    .dataframe thead th {\n",
       "        text-align: right;\n",
       "    }\n",
       "</style>\n",
       "<table border=\"1\" class=\"dataframe\">\n",
       "  <thead>\n",
       "    <tr style=\"text-align: right;\">\n",
       "      <th></th>\n",
       "      <th>Series_Title</th>\n",
       "      <th>Released_Year</th>\n",
       "      <th>Certificate</th>\n",
       "      <th>Runtime</th>\n",
       "      <th>Genre</th>\n",
       "      <th>IMDB_Rating</th>\n",
       "      <th>Overview</th>\n",
       "      <th>Meta_score</th>\n",
       "      <th>Director</th>\n",
       "      <th>Star1</th>\n",
       "      <th>Star2</th>\n",
       "      <th>Star3</th>\n",
       "      <th>Star4</th>\n",
       "      <th>No_of_Votes</th>\n",
       "      <th>Gross</th>\n",
       "    </tr>\n",
       "  </thead>\n",
       "  <tbody>\n",
       "    <tr>\n",
       "      <th>966</th>\n",
       "      <td>Apollo 13</td>\n",
       "      <td>NaN</td>\n",
       "      <td>U</td>\n",
       "      <td>140</td>\n",
       "      <td>Adventure, Drama, History</td>\n",
       "      <td>7.60</td>\n",
       "      <td>NASA must devise a strategy to return Apollo 1...</td>\n",
       "      <td>77.00</td>\n",
       "      <td>Ron Howard</td>\n",
       "      <td>Tom Hanks</td>\n",
       "      <td>Bill Paxton</td>\n",
       "      <td>Kevin Bacon</td>\n",
       "      <td>Gary Sinise</td>\n",
       "      <td>269197</td>\n",
       "      <td>173,837,933.00</td>\n",
       "    </tr>\n",
       "  </tbody>\n",
       "</table>\n",
       "</div>"
      ],
      "text/plain": [
       "    Series_Title  Released_Year Certificate  Runtime  \\\n",
       "966    Apollo 13            NaN           U      140   \n",
       "\n",
       "                         Genre  IMDB_Rating  \\\n",
       "966  Adventure, Drama, History         7.60   \n",
       "\n",
       "                                              Overview  Meta_score  \\\n",
       "966  NASA must devise a strategy to return Apollo 1...       77.00   \n",
       "\n",
       "       Director      Star1        Star2        Star3        Star4  \\\n",
       "966  Ron Howard  Tom Hanks  Bill Paxton  Kevin Bacon  Gary Sinise   \n",
       "\n",
       "     No_of_Votes          Gross  \n",
       "966       269197 173,837,933.00  "
      ]
     },
     "execution_count": 16,
     "metadata": {},
     "output_type": "execute_result"
    }
   ],
   "source": [
    "#verificando qual linha está com o valor de ano nulo \n",
    "df[df['Released_Year'].isnull()]"
   ]
  },
  {
   "cell_type": "code",
   "execution_count": 17,
   "id": "efbde4ca",
   "metadata": {},
   "outputs": [
    {
     "name": "stderr",
     "output_type": "stream",
     "text": [
      "<>:2: SyntaxWarning: invalid escape sequence '\\d'\n",
      "<>:2: SyntaxWarning: invalid escape sequence '\\d'\n",
      "C:\\Users\\Rodrigo\\AppData\\Local\\Temp\\ipykernel_18780\\4145612741.py:2: SyntaxWarning: invalid escape sequence '\\d'\n",
      "  df_original = pd.read_csv('data\\desafio_indicium_imdb.csv', index_col=0)\n"
     ]
    },
    {
     "data": {
      "text/plain": [
       "Series_Title                                             Apollo 13\n",
       "Released_Year                                                   PG\n",
       "Certificate                                                      U\n",
       "Runtime                                                    140 min\n",
       "Genre                                    Adventure, Drama, History\n",
       "IMDB_Rating                                                   7.60\n",
       "Overview         NASA must devise a strategy to return Apollo 1...\n",
       "Meta_score                                                   77.00\n",
       "Director                                                Ron Howard\n",
       "Star1                                                    Tom Hanks\n",
       "Star2                                                  Bill Paxton\n",
       "Star3                                                  Kevin Bacon\n",
       "Star4                                                  Gary Sinise\n",
       "No_of_Votes                                                 269197\n",
       "Gross                                                  173,837,933\n",
       "Name: 966, dtype: object"
      ]
     },
     "execution_count": 17,
     "metadata": {},
     "output_type": "execute_result"
    }
   ],
   "source": [
    "#Agora verificando a linha 966 no df original para analisar o que constava na mesma antes da conversão\n",
    "df_original = pd.read_csv('data\\desafio_indicium_imdb.csv', index_col=0)\n",
    "\n",
    "df_original.loc[966]"
   ]
  },
  {
   "cell_type": "markdown",
   "id": "6f6b1548",
   "metadata": {},
   "source": [
    "Podemos notar que no lugar de ano temos PG o que está incorreto, como esse erro foi pontual, fazendo uma busca na internet descobri que o ano de lançamento é 1995 e o certificado é PG. Agora podemos realizar a alteração diretamente no dataset.\n"
   ]
  },
  {
   "cell_type": "code",
   "execution_count": 18,
   "id": "dcff367c",
   "metadata": {},
   "outputs": [],
   "source": [
    "# Corrigindo o ano e o certificado para o filme Apollo 13 usando o índice 966\n",
    "df.loc[966, 'Released_Year'] = float(1995)\n",
    "df.loc[966, 'Certificate'] = 'PG'"
   ]
  },
  {
   "cell_type": "code",
   "execution_count": 19,
   "id": "f886644b",
   "metadata": {},
   "outputs": [
    {
     "data": {
      "text/plain": [
       "Series_Title                                             Apollo 13\n",
       "Released_Year                                             1,995.00\n",
       "Certificate                                                     PG\n",
       "Runtime                                                        140\n",
       "Genre                                    Adventure, Drama, History\n",
       "IMDB_Rating                                                   7.60\n",
       "Overview         NASA must devise a strategy to return Apollo 1...\n",
       "Meta_score                                                   77.00\n",
       "Director                                                Ron Howard\n",
       "Star1                                                    Tom Hanks\n",
       "Star2                                                  Bill Paxton\n",
       "Star3                                                  Kevin Bacon\n",
       "Star4                                                  Gary Sinise\n",
       "No_of_Votes                                                 269197\n",
       "Gross                                               173,837,933.00\n",
       "Name: 966, dtype: object"
      ]
     },
     "execution_count": 19,
     "metadata": {},
     "output_type": "execute_result"
    }
   ],
   "source": [
    "df.loc[966]"
   ]
  },
  {
   "cell_type": "code",
   "execution_count": 20,
   "id": "6cba0094",
   "metadata": {},
   "outputs": [],
   "source": [
    "#Conversão do coluna de ano para int \n",
    "df['Released_Year'] = df['Released_Year'].astype(int)"
   ]
  },
  {
   "cell_type": "code",
   "execution_count": 21,
   "id": "19f53267",
   "metadata": {},
   "outputs": [
    {
     "name": "stdout",
     "output_type": "stream",
     "text": [
      "Número de linhas duplicadas no dataset: 0\n"
     ]
    }
   ],
   "source": [
    "# Verificar se existem linhas duplicadas\n",
    "num_duplicatas = df.duplicated().sum()\n",
    "print(f\"Número de linhas duplicadas no dataset: {num_duplicatas}\")"
   ]
  },
  {
   "cell_type": "markdown",
   "id": "98a77815",
   "metadata": {},
   "source": [
    "Aqui é realizado a inserção de novos dados para atualizar o valor de Gross, será criada uma nova coluna com os valores corrigidos de acordo com a inflação. Sera usado a tabela com o Índice de Preços ao Consumidor (CPI - Consumer Price Index) dos EUA para cada ano. Retidada de: https://fred.stlouisfed.org/series/CPIAUCNS"
   ]
  },
  {
   "cell_type": "code",
   "execution_count": 22,
   "id": "300a664b",
   "metadata": {},
   "outputs": [],
   "source": [
    "# Carrega o arquivo CPIAUCNS.csv\n",
    "df_cpi_raw = pd.read_csv('data/CPIAUCNS.csv')"
   ]
  },
  {
   "cell_type": "code",
   "execution_count": 23,
   "id": "c8fab716",
   "metadata": {},
   "outputs": [
    {
     "name": "stdout",
     "output_type": "stream",
     "text": [
      "Index(['observation_date', 'CPIAUCNS'], dtype='object')\n"
     ]
    }
   ],
   "source": [
    "print(df_cpi_raw.columns)"
   ]
  },
  {
   "cell_type": "code",
   "execution_count": 24,
   "id": "d8cd9a5f",
   "metadata": {},
   "outputs": [],
   "source": [
    "#Converte a coluna de data para o formato de data\n",
    "df_cpi_raw['observation_date'] = pd.to_datetime(df_cpi_raw['observation_date'])"
   ]
  },
  {
   "cell_type": "code",
   "execution_count": 25,
   "id": "3e00021a",
   "metadata": {},
   "outputs": [],
   "source": [
    "#Extrair o ano da coluna 'observation_date'\n",
    "df_cpi_raw['Year'] = df_cpi_raw['observation_date'].dt.year"
   ]
  },
  {
   "cell_type": "code",
   "execution_count": 26,
   "id": "7f9fb3e7",
   "metadata": {},
   "outputs": [
    {
     "name": "stdout",
     "output_type": "stream",
     "text": [
      "     Year    CPI\n",
      "108  2021 270.97\n",
      "109  2022 292.65\n",
      "110  2023 304.70\n",
      "111  2024 313.69\n",
      "112  2025 320.63\n"
     ]
    }
   ],
   "source": [
    "#Agrupar por ano e calcular a média do CPI\n",
    "df_cpi_anual = df_cpi_raw.groupby('Year')['CPIAUCNS'].mean().reset_index()\n",
    "df_cpi_anual.rename(columns={'CPIAUCNS': 'CPI'}, inplace=True)\n",
    "print(df_cpi_anual.tail())"
   ]
  },
  {
   "cell_type": "code",
   "execution_count": 27,
   "id": "95ff9ccc",
   "metadata": {},
   "outputs": [],
   "source": [
    "df_filmes= df"
   ]
  },
  {
   "cell_type": "code",
   "execution_count": 28,
   "id": "6672d634",
   "metadata": {},
   "outputs": [],
   "source": [
    "#Combinar os datasets \n",
    "df_combinado = pd.merge(df_filmes, df_cpi_anual, left_on='Released_Year', right_on='Year', how='left')\n"
   ]
  },
  {
   "cell_type": "code",
   "execution_count": 29,
   "id": "c44b139c",
   "metadata": {},
   "outputs": [
    {
     "name": "stdout",
     "output_type": "stream",
     "text": [
      "Amostra dos dados finais:\n"
     ]
    },
    {
     "data": {
      "text/html": [
       "<div>\n",
       "<style scoped>\n",
       "    .dataframe tbody tr th:only-of-type {\n",
       "        vertical-align: middle;\n",
       "    }\n",
       "\n",
       "    .dataframe tbody tr th {\n",
       "        vertical-align: top;\n",
       "    }\n",
       "\n",
       "    .dataframe thead th {\n",
       "        text-align: right;\n",
       "    }\n",
       "</style>\n",
       "<table border=\"1\" class=\"dataframe\">\n",
       "  <thead>\n",
       "    <tr style=\"text-align: right;\">\n",
       "      <th></th>\n",
       "      <th>Series_Title</th>\n",
       "      <th>Released_Year</th>\n",
       "      <th>Gross</th>\n",
       "      <th>CPI</th>\n",
       "      <th>Gross_Adjusted</th>\n",
       "    </tr>\n",
       "  </thead>\n",
       "  <tbody>\n",
       "    <tr>\n",
       "      <th>0</th>\n",
       "      <td>The Godfather</td>\n",
       "      <td>1972</td>\n",
       "      <td>134,966,411.00</td>\n",
       "      <td>41.82</td>\n",
       "      <td>835,332,346.55</td>\n",
       "    </tr>\n",
       "    <tr>\n",
       "      <th>1</th>\n",
       "      <td>The Dark Knight</td>\n",
       "      <td>2008</td>\n",
       "      <td>534,858,444.00</td>\n",
       "      <td>215.30</td>\n",
       "      <td>642,943,476.70</td>\n",
       "    </tr>\n",
       "    <tr>\n",
       "      <th>2</th>\n",
       "      <td>The Godfather: Part II</td>\n",
       "      <td>1974</td>\n",
       "      <td>57,300,000.00</td>\n",
       "      <td>49.31</td>\n",
       "      <td>300,758,083.83</td>\n",
       "    </tr>\n",
       "    <tr>\n",
       "      <th>3</th>\n",
       "      <td>12 Angry Men</td>\n",
       "      <td>1957</td>\n",
       "      <td>4,360,000.00</td>\n",
       "      <td>28.09</td>\n",
       "      <td>40,169,090.00</td>\n",
       "    </tr>\n",
       "    <tr>\n",
       "      <th>4</th>\n",
       "      <td>The Lord of the Rings: The Return of the King</td>\n",
       "      <td>2003</td>\n",
       "      <td>377,845,905.00</td>\n",
       "      <td>183.96</td>\n",
       "      <td>531,591,788.86</td>\n",
       "    </tr>\n",
       "  </tbody>\n",
       "</table>\n",
       "</div>"
      ],
      "text/plain": [
       "                                    Series_Title  Released_Year  \\\n",
       "0                                  The Godfather           1972   \n",
       "1                                The Dark Knight           2008   \n",
       "2                         The Godfather: Part II           1974   \n",
       "3                                   12 Angry Men           1957   \n",
       "4  The Lord of the Rings: The Return of the King           2003   \n",
       "\n",
       "           Gross    CPI  Gross_Adjusted  \n",
       "0 134,966,411.00  41.82  835,332,346.55  \n",
       "1 534,858,444.00 215.30  642,943,476.70  \n",
       "2  57,300,000.00  49.31  300,758,083.83  \n",
       "3   4,360,000.00  28.09   40,169,090.00  \n",
       "4 377,845,905.00 183.96  531,591,788.86  "
      ]
     },
     "metadata": {},
     "output_type": "display_data"
    }
   ],
   "source": [
    "#Calcular a Coluna 'Gross_Adjusted' \n",
    "\n",
    "# Pega o CPI mais recente como base\n",
    "cpi_base = df_cpi_anual.loc[df_cpi_anual['Year'] == 2020, 'CPI'].iloc[0]\n",
    "\n",
    "# Calcula o faturamento ajustado\n",
    "df_combinado['Gross_Adjusted'] = df_combinado['Gross'] * (cpi_base / df_combinado['CPI'])\n",
    "\n",
    "print(\"Amostra dos dados finais:\")\n",
    "# Mostra as colunas mais importantes para verificação\n",
    "display(df_combinado[['Series_Title', 'Released_Year', 'Gross', 'CPI', 'Gross_Adjusted']].head())"
   ]
  },
  {
   "cell_type": "code",
   "execution_count": null,
   "id": "8dc1d9a3",
   "metadata": {},
   "outputs": [],
   "source": []
  },
  {
   "cell_type": "code",
   "execution_count": 30,
   "id": "6322dc94",
   "metadata": {},
   "outputs": [
    {
     "data": {
      "text/html": [
       "<div>\n",
       "<style scoped>\n",
       "    .dataframe tbody tr th:only-of-type {\n",
       "        vertical-align: middle;\n",
       "    }\n",
       "\n",
       "    .dataframe tbody tr th {\n",
       "        vertical-align: top;\n",
       "    }\n",
       "\n",
       "    .dataframe thead th {\n",
       "        text-align: right;\n",
       "    }\n",
       "</style>\n",
       "<table border=\"1\" class=\"dataframe\">\n",
       "  <thead>\n",
       "    <tr style=\"text-align: right;\">\n",
       "      <th></th>\n",
       "      <th>IMDB_Rating</th>\n",
       "      <th>Meta_score</th>\n",
       "      <th>No_of_Votes</th>\n",
       "      <th>Runtime</th>\n",
       "      <th>Gross</th>\n",
       "    </tr>\n",
       "  </thead>\n",
       "  <tbody>\n",
       "    <tr>\n",
       "      <th>count</th>\n",
       "      <td>999.00</td>\n",
       "      <td>999.00</td>\n",
       "      <td>999.00</td>\n",
       "      <td>999.00</td>\n",
       "      <td>999.00</td>\n",
       "    </tr>\n",
       "    <tr>\n",
       "      <th>mean</th>\n",
       "      <td>7.95</td>\n",
       "      <td>77.84</td>\n",
       "      <td>271,621.42</td>\n",
       "      <td>122.87</td>\n",
       "      <td>62,415,035.69</td>\n",
       "    </tr>\n",
       "    <tr>\n",
       "      <th>std</th>\n",
       "      <td>0.27</td>\n",
       "      <td>11.80</td>\n",
       "      <td>320,912.62</td>\n",
       "      <td>28.10</td>\n",
       "      <td>103,048,662.21</td>\n",
       "    </tr>\n",
       "    <tr>\n",
       "      <th>min</th>\n",
       "      <td>7.60</td>\n",
       "      <td>28.00</td>\n",
       "      <td>25,088.00</td>\n",
       "      <td>45.00</td>\n",
       "      <td>1,305.00</td>\n",
       "    </tr>\n",
       "    <tr>\n",
       "      <th>25%</th>\n",
       "      <td>7.70</td>\n",
       "      <td>71.00</td>\n",
       "      <td>55,471.50</td>\n",
       "      <td>103.00</td>\n",
       "      <td>4,360,000.00</td>\n",
       "    </tr>\n",
       "    <tr>\n",
       "      <th>50%</th>\n",
       "      <td>7.90</td>\n",
       "      <td>79.00</td>\n",
       "      <td>138,356.00</td>\n",
       "      <td>119.00</td>\n",
       "      <td>22,276,975.00</td>\n",
       "    </tr>\n",
       "    <tr>\n",
       "      <th>75%</th>\n",
       "      <td>8.10</td>\n",
       "      <td>86.00</td>\n",
       "      <td>373,167.50</td>\n",
       "      <td>137.00</td>\n",
       "      <td>70,753,486.50</td>\n",
       "    </tr>\n",
       "    <tr>\n",
       "      <th>max</th>\n",
       "      <td>9.20</td>\n",
       "      <td>100.00</td>\n",
       "      <td>2,303,232.00</td>\n",
       "      <td>321.00</td>\n",
       "      <td>936,662,225.00</td>\n",
       "    </tr>\n",
       "  </tbody>\n",
       "</table>\n",
       "</div>"
      ],
      "text/plain": [
       "       IMDB_Rating  Meta_score  No_of_Votes  Runtime          Gross\n",
       "count       999.00      999.00       999.00   999.00         999.00\n",
       "mean          7.95       77.84   271,621.42   122.87  62,415,035.69\n",
       "std           0.27       11.80   320,912.62    28.10 103,048,662.21\n",
       "min           7.60       28.00    25,088.00    45.00       1,305.00\n",
       "25%           7.70       71.00    55,471.50   103.00   4,360,000.00\n",
       "50%           7.90       79.00   138,356.00   119.00  22,276,975.00\n",
       "75%           8.10       86.00   373,167.50   137.00  70,753,486.50\n",
       "max           9.20      100.00 2,303,232.00   321.00 936,662,225.00"
      ]
     },
     "execution_count": 30,
     "metadata": {},
     "output_type": "execute_result"
    }
   ],
   "source": [
    "#Análise Univariada de Variáveis Numéricas\n",
    "numeric_cols = ['IMDB_Rating', 'Meta_score', 'No_of_Votes', 'Runtime', 'Gross']\n",
    "df[numeric_cols].describe()"
   ]
  },
  {
   "cell_type": "code",
   "execution_count": 31,
   "id": "db01d764",
   "metadata": {},
   "outputs": [
    {
     "name": "stdout",
     "output_type": "stream",
     "text": [
      "Distribuição das Variáveis Numéricas do DataFrame Combinado:\n"
     ]
    },
    {
     "data": {
      "image/png": "[encoded data removed]",
      "text/plain": [
       "<Figure size 1500x1200 with 9 Axes>"
      ]
     },
     "metadata": {},
     "output_type": "display_data"
    }
   ],
   "source": [
    "#Histogramas para visualizar a distribuição de cada variável numérica\n",
    "\n",
    "# Define a lista de colunas numéricas do seu novo DataFrame\n",
    "\n",
    "numeric_cols_combinado = [\n",
    "    'Released_Year', 'Runtime', 'IMDB_Rating', 'Meta_score', \n",
    "    'No_of_Votes', 'Gross', 'CPI', 'Gross_Adjusted']\n",
    "\n",
    "# Gera os histogramas\n",
    "print(\"Distribuição das Variáveis Numéricas do DataFrame Combinado:\")\n",
    "df_combinado[numeric_cols_combinado].hist(bins=20, figsize=(15, 12))\n",
    "plt.tight_layout()"
   ]
  },
  {
   "cell_type": "code",
   "execution_count": 32,
   "id": "4ee3585b",
   "metadata": {},
   "outputs": [
    {
     "ename": "NameError",
     "evalue": "name 'FuncFormatter' is not defined",
     "output_type": "error",
     "traceback": [
      "\u001b[31m---------------------------------------------------------------------------\u001b[39m",
      "\u001b[31mNameError\u001b[39m                                 Traceback (most recent call last)",
      "\u001b[36mCell\u001b[39m\u001b[36m \u001b[39m\u001b[32mIn[32]\u001b[39m\u001b[32m, line 24\u001b[39m\n\u001b[32m     22\u001b[39m     col_name = ax.get_title()\n\u001b[32m     23\u001b[39m     \u001b[38;5;28;01mif\u001b[39;00m col_name \u001b[38;5;129;01min\u001b[39;00m [\u001b[33m'\u001b[39m\u001b[33mGross\u001b[39m\u001b[33m'\u001b[39m, \u001b[33m'\u001b[39m\u001b[33mGross_Adjusted\u001b[39m\u001b[33m'\u001b[39m, \u001b[33m'\u001b[39m\u001b[33mNo_of_Votes\u001b[39m\u001b[33m'\u001b[39m]:\n\u001b[32m---> \u001b[39m\u001b[32m24\u001b[39m         ax.xaxis.set_major_formatter(\u001b[43mFuncFormatter\u001b[49m(format_axis))\n\u001b[32m     26\u001b[39m plt.tight_layout()\n\u001b[32m     27\u001b[39m plt.show()\n",
      "\u001b[31mNameError\u001b[39m: name 'FuncFormatter' is not defined"
     ]
    },
    {
     "data": {
      "image/png": "[encoded data removed]",
      "text/plain": [
       "<Figure size 1500x1200 with 9 Axes>"
      ]
     },
     "metadata": {},
     "output_type": "display_data"
    }
   ],
   "source": [
    "# 1. Defina a função de formatação\n",
    "def format_axis(x, pos):\n",
    "    if x >= 1e6:\n",
    "        return f'{x/1e6:.0f}M' # Formato para Milhões\n",
    "    if x >= 1e3:\n",
    "        return f'{x/1e3:.0f}k' # Formato para Milhares\n",
    "    return x\n",
    "\n",
    "# 2. Defina as colunas que você quer plotar\n",
    "numeric_cols_combinado = [\n",
    "    'Released_Year', 'Runtime', 'IMDB_Rating', 'Meta_score', \n",
    "    'No_of_Votes', 'Gross', 'CPI', 'Gross_Adjusted'\n",
    "]\n",
    "\n",
    "# 3. Crie os histogramas. A função .hist() retorna um array de eixos (axes).\n",
    "axes = df_combinado[numeric_cols_combinado].hist(bins=20, figsize=(15, 12))\n",
    "\n",
    "# 4. Itere sobre os eixos e aplique a formatação onde for necessário\n",
    "# O método .flatten() transforma a matriz de eixos em uma lista única para facilitar o loop\n",
    "for ax in axes.flatten():\n",
    "    # Verificamos o título do eixo Y para saber qual coluna ele representa\n",
    "    col_name = ax.get_title()\n",
    "    if col_name in ['Gross', 'Gross_Adjusted', 'No_of_Votes']:\n",
    "        ax.xaxis.set_major_formatter(FuncFormatter(format_axis))\n",
    "\n",
    "plt.tight_layout()\n",
    "plt.show()"
   ]
  },
  {
   "cell_type": "code",
   "execution_count": 34,
   "id": "4eaec93d",
   "metadata": {},
   "outputs": [
    {
     "name": "stdout",
     "output_type": "stream",
     "text": [
      "Top 10 Filmes por Faturamento Ajustado pela Inflação:\n"
     ]
    },
    {
     "data": {
      "text/html": [
       "<div>\n",
       "<style scoped>\n",
       "    .dataframe tbody tr th:only-of-type {\n",
       "        vertical-align: middle;\n",
       "    }\n",
       "\n",
       "    .dataframe tbody tr th {\n",
       "        vertical-align: top;\n",
       "    }\n",
       "\n",
       "    .dataframe thead th {\n",
       "        text-align: right;\n",
       "    }\n",
       "</style>\n",
       "<table border=\"1\" class=\"dataframe\">\n",
       "  <thead>\n",
       "    <tr style=\"text-align: right;\">\n",
       "      <th></th>\n",
       "      <th>Series_Title</th>\n",
       "      <th>Released_Year</th>\n",
       "      <th>Gross</th>\n",
       "      <th>Gross_Adjusted</th>\n",
       "    </tr>\n",
       "  </thead>\n",
       "  <tbody>\n",
       "    <tr>\n",
       "      <th>313</th>\n",
       "      <td>Gone with the Wind</td>\n",
       "      <td>1939</td>\n",
       "      <td>198,676,459.00</td>\n",
       "      <td>3,697,041,544.13</td>\n",
       "    </tr>\n",
       "    <tr>\n",
       "      <th>708</th>\n",
       "      <td>Red River</td>\n",
       "      <td>1948</td>\n",
       "      <td>185,671,660.50</td>\n",
       "      <td>1,998,775,697.92</td>\n",
       "    </tr>\n",
       "    <tr>\n",
       "      <th>712</th>\n",
       "      <td>Stagecoach</td>\n",
       "      <td>1939</td>\n",
       "      <td>94,611,424.00</td>\n",
       "      <td>1,760,562,710.04</td>\n",
       "    </tr>\n",
       "    <tr>\n",
       "      <th>875</th>\n",
       "      <td>The Invisible Man</td>\n",
       "      <td>1933</td>\n",
       "      <td>78,900,000.00</td>\n",
       "      <td>1,578,881,524.48</td>\n",
       "    </tr>\n",
       "    <tr>\n",
       "      <th>995</th>\n",
       "      <td>Giant</td>\n",
       "      <td>1956</td>\n",
       "      <td>162,805,434.00</td>\n",
       "      <td>1,550,062,451.74</td>\n",
       "    </tr>\n",
       "    <tr>\n",
       "      <th>176</th>\n",
       "      <td>Sholay</td>\n",
       "      <td>1975</td>\n",
       "      <td>315,058,289.00</td>\n",
       "      <td>1,515,155,218.53</td>\n",
       "    </tr>\n",
       "    <tr>\n",
       "      <th>874</th>\n",
       "      <td>Fantasia</td>\n",
       "      <td>1940</td>\n",
       "      <td>76,408,097.00</td>\n",
       "      <td>1,411,678,909.75</td>\n",
       "    </tr>\n",
       "    <tr>\n",
       "      <th>294</th>\n",
       "      <td>The Man Who Shot Liberty Valance</td>\n",
       "      <td>1962</td>\n",
       "      <td>162,805,434.00</td>\n",
       "      <td>1,392,921,134.32</td>\n",
       "    </tr>\n",
       "    <tr>\n",
       "      <th>28</th>\n",
       "      <td>Star Wars</td>\n",
       "      <td>1977</td>\n",
       "      <td>322,740,140.00</td>\n",
       "      <td>1,378,172,729.22</td>\n",
       "    </tr>\n",
       "    <tr>\n",
       "      <th>418</th>\n",
       "      <td>The Exorcist</td>\n",
       "      <td>1973</td>\n",
       "      <td>232,906,145.00</td>\n",
       "      <td>1,357,628,628.63</td>\n",
       "    </tr>\n",
       "    <tr>\n",
       "      <th>428</th>\n",
       "      <td>The Sound of Music</td>\n",
       "      <td>1965</td>\n",
       "      <td>163,214,286.00</td>\n",
       "      <td>1,340,651,037.60</td>\n",
       "    </tr>\n",
       "    <tr>\n",
       "      <th>414</th>\n",
       "      <td>Jaws</td>\n",
       "      <td>1975</td>\n",
       "      <td>260,000,000.00</td>\n",
       "      <td>1,250,372,932.80</td>\n",
       "    </tr>\n",
       "    <tr>\n",
       "      <th>687</th>\n",
       "      <td>E.T. the Extra-Terrestrial</td>\n",
       "      <td>1982</td>\n",
       "      <td>435,110,554.00</td>\n",
       "      <td>1,166,958,239.48</td>\n",
       "    </tr>\n",
       "    <tr>\n",
       "      <th>991</th>\n",
       "      <td>The Jungle Book</td>\n",
       "      <td>1967</td>\n",
       "      <td>141,843,612.00</td>\n",
       "      <td>1,100,495,949.22</td>\n",
       "    </tr>\n",
       "    <tr>\n",
       "      <th>651</th>\n",
       "      <td>Titanic</td>\n",
       "      <td>1997</td>\n",
       "      <td>659,325,379.00</td>\n",
       "      <td>1,063,071,979.35</td>\n",
       "    </tr>\n",
       "    <tr>\n",
       "      <th>476</th>\n",
       "      <td>Star Wars: Episode VII - The Force Awakens</td>\n",
       "      <td>2015</td>\n",
       "      <td>936,662,225.00</td>\n",
       "      <td>1,022,790,108.83</td>\n",
       "    </tr>\n",
       "    <tr>\n",
       "      <th>111</th>\n",
       "      <td>The Sting</td>\n",
       "      <td>1973</td>\n",
       "      <td>159,600,000.00</td>\n",
       "      <td>930,321,220.72</td>\n",
       "    </tr>\n",
       "    <tr>\n",
       "      <th>429</th>\n",
       "      <td>Doctor Zhivago</td>\n",
       "      <td>1965</td>\n",
       "      <td>111,722,000.00</td>\n",
       "      <td>917,690,594.94</td>\n",
       "    </tr>\n",
       "    <tr>\n",
       "      <th>622</th>\n",
       "      <td>Avatar</td>\n",
       "      <td>2009</td>\n",
       "      <td>760,507,625.00</td>\n",
       "      <td>917,454,171.94</td>\n",
       "    </tr>\n",
       "    <tr>\n",
       "      <th>15</th>\n",
       "      <td>Star Wars: Episode V - The Empire Strikes Back</td>\n",
       "      <td>1980</td>\n",
       "      <td>290,475,067.00</td>\n",
       "      <td>912,264,426.87</td>\n",
       "    </tr>\n",
       "  </tbody>\n",
       "</table>\n",
       "</div>"
      ],
      "text/plain": [
       "                                       Series_Title  Released_Year  \\\n",
       "313                              Gone with the Wind           1939   \n",
       "708                                       Red River           1948   \n",
       "712                                      Stagecoach           1939   \n",
       "875                               The Invisible Man           1933   \n",
       "995                                           Giant           1956   \n",
       "176                                          Sholay           1975   \n",
       "874                                        Fantasia           1940   \n",
       "294                The Man Who Shot Liberty Valance           1962   \n",
       "28                                        Star Wars           1977   \n",
       "418                                    The Exorcist           1973   \n",
       "428                              The Sound of Music           1965   \n",
       "414                                            Jaws           1975   \n",
       "687                      E.T. the Extra-Terrestrial           1982   \n",
       "991                                 The Jungle Book           1967   \n",
       "651                                         Titanic           1997   \n",
       "476      Star Wars: Episode VII - The Force Awakens           2015   \n",
       "111                                       The Sting           1973   \n",
       "429                                  Doctor Zhivago           1965   \n",
       "622                                          Avatar           2009   \n",
       "15   Star Wars: Episode V - The Empire Strikes Back           1980   \n",
       "\n",
       "             Gross   Gross_Adjusted  \n",
       "313 198,676,459.00 3,697,041,544.13  \n",
       "708 185,671,660.50 1,998,775,697.92  \n",
       "712  94,611,424.00 1,760,562,710.04  \n",
       "875  78,900,000.00 1,578,881,524.48  \n",
       "995 162,805,434.00 1,550,062,451.74  \n",
       "176 315,058,289.00 1,515,155,218.53  \n",
       "874  76,408,097.00 1,411,678,909.75  \n",
       "294 162,805,434.00 1,392,921,134.32  \n",
       "28  322,740,140.00 1,378,172,729.22  \n",
       "418 232,906,145.00 1,357,628,628.63  \n",
       "428 163,214,286.00 1,340,651,037.60  \n",
       "414 260,000,000.00 1,250,372,932.80  \n",
       "687 435,110,554.00 1,166,958,239.48  \n",
       "991 141,843,612.00 1,100,495,949.22  \n",
       "651 659,325,379.00 1,063,071,979.35  \n",
       "476 936,662,225.00 1,022,790,108.83  \n",
       "111 159,600,000.00   930,321,220.72  \n",
       "429 111,722,000.00   917,690,594.94  \n",
       "622 760,507,625.00   917,454,171.94  \n",
       "15  290,475,067.00   912,264,426.87  "
      ]
     },
     "metadata": {},
     "output_type": "display_data"
    }
   ],
   "source": [
    "# Supondo que 'df_combinado' já existe e está pronto.\n",
    "\n",
    "# Configura o formato de exibição para facilitar a leitura\n",
    "pd.options.display.float_format = '{:,.2f}'.format\n",
    "\n",
    "# Ordena o DataFrame pela coluna 'Gross_Adjusted' em ordem decrescente e pega os 10 primeiros\n",
    "top_10_faturamento = df_combinado.sort_values(by='Gross_Adjusted', ascending=False).head(20)\n",
    "\n",
    "print(\"Top 10 Filmes por Faturamento Ajustado pela Inflação:\")\n",
    "display(top_10_faturamento[['Series_Title', 'Released_Year', 'Gross', 'Gross_Adjusted']])"
   ]
  },
  {
   "cell_type": "code",
   "execution_count": null,
   "id": "dc9ab5b2",
   "metadata": {},
   "outputs": [],
   "source": [
    "# --- Análise Univariada de Gêneros ---\n",
    "# Como um filme pode ter múltiplos gêneros, separamos e contamos cada um\n",
    "genre_counts = df['Genre'].str.split(', ').explode().value_counts()"
   ]
  },
  {
   "cell_type": "markdown",
   "id": "f3f56961",
   "metadata": {},
   "source": [
    "Agora temos todos valores ausentes tratados e podemos partir para as visualizaçõe"
   ]
  }
 ],
 "metadata": {
  "kernelspec": {
   "display_name": ".venv",
   "language": "python",
   "name": "python3"
  },
  "language_info": {
   "codemirror_mode": {
    "name": "ipython",
    "version": 3
   },
   "file_extension": ".py",
   "mimetype": "text/x-python",
   "name": "python",
   "nbconvert_exporter": "python",
   "pygments_lexer": "ipython3",
   "version": "3.13.7"
  }
 },
 "nbformat": 4,
 "nbformat_minor": 5
}
